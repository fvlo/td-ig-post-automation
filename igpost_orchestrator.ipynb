{
 "cells": [
  {
   "cell_type": "code",
   "execution_count": null,
   "source": [
    "from ig_carousel_via_latelysocial import post_to_ig\r\n",
    "import pandas as pd\r\n",
    "import time\r\n",
    "from datetime import datetime\r\n",
    "from sys import exit"
   ],
   "outputs": [],
   "metadata": {}
  },
  {
   "cell_type": "code",
   "execution_count": null,
   "source": [
    "# Get posting instructions from google sheets.\r\n",
    "\r\n",
    "sheet_url = \"https://docs.google.com/spreadsheets/d/1b3KojEnGWyRxAz1lMcPjani2SfGRg3nlkDGPglfPxjI/edit#gid=0\"\r\n",
    "url = sheet_url.replace(\"/edit#gid=\", \"/export?format=csv&gid=\")\r\n",
    "instructions = pd.read_csv(url)\r\n",
    "instructions"
   ],
   "outputs": [],
   "metadata": {}
  },
  {
   "cell_type": "code",
   "execution_count": null,
   "source": [
    "# Identify correct row of instructions. If =! 1 throw error and exit.\r\n",
    "\r\n",
    "todays_date = str(datetime.date(datetime.now()))\r\n",
    "index_to_post = instructions.index[instructions['Date'] == todays_date].tolist()\r\n",
    "\r\n",
    "if len(index_to_post) == 1:\r\n",
    "    index_to_post = index_to_post[0]\r\n",
    "elif len(index_to_post) == 0:\r\n",
    "    print(\"ERROR - No posts found for today's date.\")\r\n",
    "    exit()\r\n",
    "else:\r\n",
    "    print(\"ERROR - More than one post found for today's date.\")\r\n",
    "    exit()\r\n",
    "    "
   ],
   "outputs": [],
   "metadata": {}
  },
  {
   "cell_type": "code",
   "execution_count": null,
   "source": [
    "caption_to_post = instructions.loc[index_to_post, \"Caption_full\"].replace('\\n', '')\r\n",
    "category_to_post = instructions.loc[index_to_post, \"Category\"].replace('\\n', '')\r\n",
    "question_to_post = instructions.loc[index_to_post, \"Question\"].replace('\\n', '')\r\n",
    "answer_to_post = instructions.loc[index_to_post, \"Answer\"].replace('\\n', '')\r\n",
    "\r\n",
    "image_content_to_post = [category_to_post, question_to_post, answer_to_post]"
   ],
   "outputs": [],
   "metadata": {}
  },
  {
   "cell_type": "code",
   "execution_count": null,
   "source": [
    "# Post to ig using imported function\r\n",
    "\r\n",
    "post_to_ig(image_content_to_post, caption_to_post)"
   ],
   "outputs": [],
   "metadata": {}
  }
 ],
 "metadata": {
  "interpreter": {
   "hash": "9f27c5a55ffba5717cec28f13a346ee7f0ac40be872d6b12c2b84698607f75f6"
  },
  "kernelspec": {
   "display_name": "Python 3.8.2 64-bit ('data-analysis': conda)",
   "name": "python3"
  },
  "language_info": {
   "codemirror_mode": {
    "name": "ipython",
    "version": 3
   },
   "file_extension": ".py",
   "mimetype": "text/x-python",
   "name": "python",
   "nbconvert_exporter": "python",
   "pygments_lexer": "ipython3",
   "version": "3.8.10"
  },
  "orig_nbformat": 4
 },
 "nbformat": 4,
 "nbformat_minor": 2
}